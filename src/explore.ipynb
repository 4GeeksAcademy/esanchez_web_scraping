{
    "cells": [
        {
            "cell_type": "markdown",
            "metadata": {},
            "source": [
                "# Explore here\n",
                "\n",
                "It's recommended to use this notebook for exploration purposes."
            ]
        },
        {
            "cell_type": "code",
            "execution_count": 2,
            "metadata": {},
            "outputs": [],
            "source": [
                "import os\n",
                "from bs4 import BeautifulSoup\n",
                "import requests\n",
                "import time\n",
                "import sqlite3\n",
                "import matplotlib.pyplot as plt\n",
                "import seaborn as sns\n",
                "import pandas as pd\n",
                "import pymysql\n",
                "from dotenv import load_dotenv \n",
                "import os\n",
                "from sqlalchemy import create_engine\n",
                "\n"
            ]
        },
        {
            "cell_type": "code",
            "execution_count": 3,
            "metadata": {},
            "outputs": [],
            "source": [
                "#hacemos la solicitud http\n",
                "url = 'https://en.wikipedia.org/wiki/List_of_most-streamed_songs_on_Spotify'\n",
                "response = requests.get(url)"
            ]
        },
        {
            "cell_type": "code",
            "execution_count": 4,
            "metadata": {},
            "outputs": [
                {
                    "name": "stdout",
                    "output_type": "stream",
                    "text": [
                        "Total tables: 27\n"
                    ]
                }
            ],
            "source": [
                "#verificar que el código es correcto \n",
                "tables = pd.read_html('https://en.wikipedia.org/wiki/List_of_most-streamed_songs_on_Spotify')\n",
                "\n",
                "print(f'Total tables: {len(tables)}')"
            ]
        },
        {
            "cell_type": "code",
            "execution_count": 5,
            "metadata": {},
            "outputs": [
                {
                    "data": {
                        "text/html": [
                            "<div>\n",
                            "<style scoped>\n",
                            "    .dataframe tbody tr th:only-of-type {\n",
                            "        vertical-align: middle;\n",
                            "    }\n",
                            "\n",
                            "    .dataframe tbody tr th {\n",
                            "        vertical-align: top;\n",
                            "    }\n",
                            "\n",
                            "    .dataframe thead th {\n",
                            "        text-align: right;\n",
                            "    }\n",
                            "</style>\n",
                            "<table border=\"1\" class=\"dataframe\">\n",
                            "  <thead>\n",
                            "    <tr style=\"text-align: right;\">\n",
                            "      <th></th>\n",
                            "      <th>Rank</th>\n",
                            "      <th>Song</th>\n",
                            "      <th>Artist(s)</th>\n",
                            "      <th>Streams (billions)</th>\n",
                            "      <th>Release date</th>\n",
                            "      <th>Ref.</th>\n",
                            "    </tr>\n",
                            "  </thead>\n",
                            "  <tbody>\n",
                            "    <tr>\n",
                            "      <th>0</th>\n",
                            "      <td>1</td>\n",
                            "      <td>\"Blinding Lights\"</td>\n",
                            "      <td>The Weeknd</td>\n",
                            "      <td>4.821</td>\n",
                            "      <td>29 November 2019</td>\n",
                            "      <td>[2]</td>\n",
                            "    </tr>\n",
                            "    <tr>\n",
                            "      <th>1</th>\n",
                            "      <td>2</td>\n",
                            "      <td>\"Shape of You\"</td>\n",
                            "      <td>Ed Sheeran</td>\n",
                            "      <td>4.341</td>\n",
                            "      <td>6 January 2017</td>\n",
                            "      <td>[3]</td>\n",
                            "    </tr>\n",
                            "    <tr>\n",
                            "      <th>2</th>\n",
                            "      <td>3</td>\n",
                            "      <td>\"Someone You Loved\"</td>\n",
                            "      <td>Lewis Capaldi</td>\n",
                            "      <td>3.889</td>\n",
                            "      <td>8 November 2018</td>\n",
                            "      <td>[4]</td>\n",
                            "    </tr>\n",
                            "    <tr>\n",
                            "      <th>3</th>\n",
                            "      <td>4</td>\n",
                            "      <td>\"Starboy\"</td>\n",
                            "      <td>The Weeknd and Daft Punk</td>\n",
                            "      <td>3.872</td>\n",
                            "      <td>21 September 2016</td>\n",
                            "      <td>[5]</td>\n",
                            "    </tr>\n",
                            "    <tr>\n",
                            "      <th>4</th>\n",
                            "      <td>5</td>\n",
                            "      <td>\"As It Was\"</td>\n",
                            "      <td>Harry Styles</td>\n",
                            "      <td>3.860</td>\n",
                            "      <td>1 April 2022</td>\n",
                            "      <td>[6]</td>\n",
                            "    </tr>\n",
                            "    <tr>\n",
                            "      <th>...</th>\n",
                            "      <td>...</td>\n",
                            "      <td>...</td>\n",
                            "      <td>...</td>\n",
                            "      <td>...</td>\n",
                            "      <td>...</td>\n",
                            "      <td>...</td>\n",
                            "    </tr>\n",
                            "    <tr>\n",
                            "      <th>96</th>\n",
                            "      <td>97</td>\n",
                            "      <td>\"Stay with Me\"</td>\n",
                            "      <td>Sam Smith</td>\n",
                            "      <td>2.286</td>\n",
                            "      <td>14 April 2014</td>\n",
                            "      <td>[98]</td>\n",
                            "    </tr>\n",
                            "    <tr>\n",
                            "      <th>97</th>\n",
                            "      <td>98</td>\n",
                            "      <td>\"Someone Like You\"</td>\n",
                            "      <td>Adele</td>\n",
                            "      <td>2.281</td>\n",
                            "      <td>24 January 2011</td>\n",
                            "      <td>[99]</td>\n",
                            "    </tr>\n",
                            "    <tr>\n",
                            "      <th>98</th>\n",
                            "      <td>99</td>\n",
                            "      <td>\"Havana\"</td>\n",
                            "      <td>Camila Cabello and Young Thug</td>\n",
                            "      <td>2.274</td>\n",
                            "      <td>3 August 2017</td>\n",
                            "      <td>[100]</td>\n",
                            "    </tr>\n",
                            "    <tr>\n",
                            "      <th>99</th>\n",
                            "      <td>100</td>\n",
                            "      <td>\"Memories\"</td>\n",
                            "      <td>Maroon 5</td>\n",
                            "      <td>2.253</td>\n",
                            "      <td>20 September 2019</td>\n",
                            "      <td>[101]</td>\n",
                            "    </tr>\n",
                            "    <tr>\n",
                            "      <th>100</th>\n",
                            "      <td>As of 5 May 2025</td>\n",
                            "      <td>As of 5 May 2025</td>\n",
                            "      <td>As of 5 May 2025</td>\n",
                            "      <td>As of 5 May 2025</td>\n",
                            "      <td>As of 5 May 2025</td>\n",
                            "      <td>As of 5 May 2025</td>\n",
                            "    </tr>\n",
                            "  </tbody>\n",
                            "</table>\n",
                            "<p>101 rows × 6 columns</p>\n",
                            "</div>"
                        ],
                        "text/plain": [
                            "                 Rank                 Song                      Artist(s)  \\\n",
                            "0                   1    \"Blinding Lights\"                     The Weeknd   \n",
                            "1                   2       \"Shape of You\"                     Ed Sheeran   \n",
                            "2                   3  \"Someone You Loved\"                  Lewis Capaldi   \n",
                            "3                   4            \"Starboy\"       The Weeknd and Daft Punk   \n",
                            "4                   5          \"As It Was\"                   Harry Styles   \n",
                            "..                ...                  ...                            ...   \n",
                            "96                 97       \"Stay with Me\"                      Sam Smith   \n",
                            "97                 98   \"Someone Like You\"                          Adele   \n",
                            "98                 99             \"Havana\"  Camila Cabello and Young Thug   \n",
                            "99                100           \"Memories\"                       Maroon 5   \n",
                            "100  As of 5 May 2025     As of 5 May 2025               As of 5 May 2025   \n",
                            "\n",
                            "    Streams (billions)       Release date              Ref.  \n",
                            "0                4.821   29 November 2019               [2]  \n",
                            "1                4.341     6 January 2017               [3]  \n",
                            "2                3.889    8 November 2018               [4]  \n",
                            "3                3.872  21 September 2016               [5]  \n",
                            "4                3.860       1 April 2022               [6]  \n",
                            "..                 ...                ...               ...  \n",
                            "96               2.286      14 April 2014              [98]  \n",
                            "97               2.281    24 January 2011              [99]  \n",
                            "98               2.274      3 August 2017             [100]  \n",
                            "99               2.253  20 September 2019             [101]  \n",
                            "100   As of 5 May 2025   As of 5 May 2025  As of 5 May 2025  \n",
                            "\n",
                            "[101 rows x 6 columns]"
                        ]
                    },
                    "execution_count": 5,
                    "metadata": {},
                    "output_type": "execute_result"
                }
            ],
            "source": [
                "df = tables[0]\n",
                "df"
            ]
        },
        {
            "cell_type": "code",
            "execution_count": null,
            "metadata": {},
            "outputs": [],
            "source": [
                "#PASO 4\n",
                "\n",
                "df.dropna(inplace=True)\n",
                "for col in df.columns:\n",
                "    df[col] = df[col].astype(str).str.replace('$','').str.replace('B', '')\n",
                "df"
            ]
        },
        {
            "cell_type": "markdown",
            "metadata": {},
            "source": [
                "PASO 5"
            ]
        },
        {
            "cell_type": "code",
            "execution_count": null,
            "metadata": {},
            "outputs": [
                {
                    "name": "stdout",
                    "output_type": "stream",
                    "text": [
                        "Se ha creado la tabla most_streamed_songs\n"
                    ]
                },
                {
                    "data": {
                        "text/plain": [
                            "<function Connection.close()>"
                        ]
                    },
                    "execution_count": 9,
                    "metadata": {},
                    "output_type": "execute_result"
                }
            ],
            "source": [
                "conexion=sqlite3.connect('top_songs.db') \n",
                "try: \n",
                "    conexion.execute(\"\"\"CREATE TABLE IF NOT EXISTS most_streamed_songs(\n",
                "                    rank INT PRIMARY KEY AUTOINCREMENT, \n",
                "                    song VARCHAR(255) NOT NULL, \n",
                "                    artist VARCHAR(255) NOT NULL,\n",
                "                    streams_billions INT NOT NULL,\n",
                "                    release_date DATETIME NOT NULL, \n",
                "                    ref INT\n",
                "                    )\"\"\")\n",
                "    print(\"Se ha creado la tabla most_streamed_songs\")\n",
                "except sqlite3.OperationalError:\n",
                "    print(\"la tabla most_streamed_songs ya existe\")\n",
                "conexion.close"
            ]
        },
        {
            "cell_type": "code",
            "execution_count": null,
            "metadata": {},
            "outputs": [],
            "source": [
                "conexion=sqlite3.connect(\"top_songs.db\")\n",
                "conexion.execute(\"insert into most_streamed_songs(rank, song, artist, streams_billions, release_date, ref) values (?, ?, ?, ?, ?, ?)\", (1, \"Hablando en plata\", \"Melendi\", 20354845, 2003-5-3, 2))\n",
                "conexion.execute(\"insert into most_streamed_songs(rank, song, artist, streams_billions, release_date, ref) values (?, ?, ?, ?, ?, ?)\", (2, \"Quédate\", \"Quevedo\", 369258147, 2022-11-11, 3))\n",
                "conexion.execute(\"insert into most_streamed_songs(rank, song, artist, streams_billions, release_date, ref) values (?, ?, ?, ?, ?, ?)\", (3, \"Rosas\", \"La Oreja de Van Gogh\", 2365478, 2003-9-26, 3))\n",
                "conexion.commit()\n",
                "conexion.close()"
            ]
        },
        {
            "cell_type": "code",
            "execution_count": 12,
            "metadata": {},
            "outputs": [
                {
                    "name": "stdout",
                    "output_type": "stream",
                    "text": [
                        "(1, 'Hablando en plata', 'Melendi', 20354845, -2001, 2)\n",
                        "(2, 'Quédate', 'Quevedo', 369258147, -2022, 3)\n",
                        "(3, 'Rosas', 'La Oreja de Van Gogh', 2365478, -1986, 3)\n"
                    ]
                }
            ],
            "source": [
                "conexion=sqlite3.connect(\"top_songs.db\")\n",
                "cursor=conexion.execute(\"select rank, song,artist,streams_billions,release_date,ref from most_streamed_songs\")\n",
                "for fila in cursor:\n",
                "    print(fila)\n",
                "conexion.close()"
            ]
        },
        {
            "cell_type": "markdown",
            "metadata": {},
            "source": [
                "Me he dado cuenta que en rank puedo poner autoincrement y que la fecha que yo he puesto esta mal, asi que hago una tabla nueva"
            ]
        },
        {
            "cell_type": "code",
            "execution_count": 19,
            "metadata": {},
            "outputs": [
                {
                    "name": "stdout",
                    "output_type": "stream",
                    "text": [
                        "la tabla most_streamed_songs ya existe\n"
                    ]
                },
                {
                    "data": {
                        "text/plain": [
                            "<function Connection.close()>"
                        ]
                    },
                    "execution_count": 19,
                    "metadata": {},
                    "output_type": "execute_result"
                }
            ],
            "source": [
                "conexion=sqlite3.connect('top_songs.db') \n",
                "try: \n",
                "    conexion.execute(\"\"\"CREATE TABLE IF NOT EXISTS most_streamed_songs(\n",
                "                    rank INT PRIMARY KEY AUTOINCREMENT, \n",
                "                    song VARCHAR(255) NOT NULL, \n",
                "                    artist VARCHAR(255) NOT NULL,\n",
                "                    streams_billions INT NOT NULL,\n",
                "                    release_date DATETIME NOT NULL, \n",
                "                    ref INT\n",
                "                    )\"\"\")\n",
                "    print(\"Se ha creado la tabla most_streamed_songs\")\n",
                "except sqlite3.OperationalError:\n",
                "    print(\"la tabla most_streamed_songs ya existe\")\n",
                "conexion.close"
            ]
        },
        {
            "cell_type": "code",
            "execution_count": 20,
            "metadata": {},
            "outputs": [
                {
                    "name": "stdout",
                    "output_type": "stream",
                    "text": [
                        "la tabla most_streamed_songs_new ya existe\n"
                    ]
                },
                {
                    "data": {
                        "text/plain": [
                            "<function Connection.close()>"
                        ]
                    },
                    "execution_count": 20,
                    "metadata": {},
                    "output_type": "execute_result"
                }
            ],
            "source": [
                "conexion=sqlite3.connect('top_songs.db') \n",
                "try: \n",
                "    conexion.execute(\"\"\"CREATE TABLE IF NOT EXISTS most_streamed_songs_new(\n",
                "                    rank INT PRIMARY KEY AUTOINCREMENT, \n",
                "                    song VARCHAR(255) NOT NULL, \n",
                "                    artist VARCHAR(255) NOT NULL,\n",
                "                    streams_billions INT NOT NULL,\n",
                "                    release_date DATETIME NOT NULL, \n",
                "                    ref INT\n",
                "                    )\"\"\")\n",
                "    print(\"Se ha creado la tabla most_streamed_songs_new\")\n",
                "except sqlite3.OperationalError:\n",
                "    print(\"la tabla most_streamed_songs_new ya existe\")\n",
                "conexion.close"
            ]
        },
        {
            "cell_type": "markdown",
            "metadata": {},
            "source": [
                "Como me da problemas, elimino toda la base de datos para volverla a hacer"
            ]
        },
        {
            "cell_type": "code",
            "execution_count": 21,
            "metadata": {},
            "outputs": [
                {
                    "name": "stdout",
                    "output_type": "stream",
                    "text": [
                        "Base de datos anterior eliminada.\n"
                    ]
                }
            ],
            "source": [
                "db_path = \"top_songs.db\"\n",
                "\n",
                "if os.path.exists(db_path):\n",
                "    os.remove(db_path)\n",
                "    print(\"Base de datos anterior eliminada.\")"
            ]
        },
        {
            "cell_type": "code",
            "execution_count": 22,
            "metadata": {},
            "outputs": [
                {
                    "name": "stdout",
                    "output_type": "stream",
                    "text": [
                        "la tabla most_streamed_songs ya existe\n"
                    ]
                },
                {
                    "data": {
                        "text/plain": [
                            "<function Connection.close()>"
                        ]
                    },
                    "execution_count": 22,
                    "metadata": {},
                    "output_type": "execute_result"
                }
            ],
            "source": [
                "conexion=sqlite3.connect('top_songs.db') \n",
                "try: \n",
                "    conexion.execute(\"\"\"CREATE TABLE IF NOT EXISTS most_streamed_songs(\n",
                "                    rank INT PRIMARY KEY AUTOINCREMENT, \n",
                "                    song VARCHAR(255) NOT NULL, \n",
                "                    artist VARCHAR(255) NOT NULL,\n",
                "                    streams_billions INT NOT NULL,\n",
                "                    release_date DATETIME NOT NULL, \n",
                "                    ref INT\n",
                "                    )\"\"\")\n",
                "    print(\"Se ha creado la tabla most_streamed_songs\")\n",
                "except sqlite3.OperationalError:\n",
                "    print(\"la tabla most_streamed_songs ya existe\")\n",
                "conexion.close"
            ]
        }
    ],
    "metadata": {
        "kernelspec": {
            "display_name": "Python 3",
            "language": "python",
            "name": "python3"
        },
        "language_info": {
            "codemirror_mode": {
                "name": "ipython",
                "version": 3
            },
            "file_extension": ".py",
            "mimetype": "text/x-python",
            "name": "python",
            "nbconvert_exporter": "python",
            "pygments_lexer": "ipython3",
            "version": "3.11.4"
        },
        "orig_nbformat": 4
    },
    "nbformat": 4,
    "nbformat_minor": 2
}
