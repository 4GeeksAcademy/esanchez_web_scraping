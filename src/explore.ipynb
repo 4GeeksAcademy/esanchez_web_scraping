{
    "cells": [
        {
            "cell_type": "markdown",
            "metadata": {},
            "source": [
                "# Explore here\n",
                "\n",
                "It's recommended to use this notebook for exploration purposes."
            ]
        },
        {
            "cell_type": "code",
            "execution_count": 1,
            "metadata": {},
            "outputs": [],
            "source": [
                "import os\n",
                "from bs4 import BeautifulSoup\n",
                "import requests\n",
                "import time\n",
                "import sqlite3\n",
                "import matplotlib.pyplot as plt\n",
                "import seaborn as sns\n",
                "import pandas as pd\n",
                "import pymysql\n",
                "from dotenv import load_dotenv \n",
                "import os\n",
                "from sqlalchemy import create_engine\n",
                "\n"
            ]
        },
        {
            "cell_type": "code",
            "execution_count": 2,
            "metadata": {},
            "outputs": [],
            "source": [
                "#hacemos la solicitud http\n",
                "url = 'https://en.wikipedia.org/wiki/List_of_most-streamed_songs_on_Spotify'\n",
                "response = requests.get(url)"
            ]
        },
        {
            "cell_type": "code",
            "execution_count": 3,
            "metadata": {},
            "outputs": [
                {
                    "name": "stdout",
                    "output_type": "stream",
                    "text": [
                        "Total tables: 27\n"
                    ]
                }
            ],
            "source": [
                "#verificar que el código es correcto \n",
                "tables = pd.read_html('https://en.wikipedia.org/wiki/List_of_most-streamed_songs_on_Spotify')\n",
                "\n",
                "print(f'Total tables: {len(tables)}')"
            ]
        },
        {
            "cell_type": "code",
            "execution_count": 4,
            "metadata": {},
            "outputs": [
                {
                    "data": {
                        "text/html": [
                            "<div>\n",
                            "<style scoped>\n",
                            "    .dataframe tbody tr th:only-of-type {\n",
                            "        vertical-align: middle;\n",
                            "    }\n",
                            "\n",
                            "    .dataframe tbody tr th {\n",
                            "        vertical-align: top;\n",
                            "    }\n",
                            "\n",
                            "    .dataframe thead th {\n",
                            "        text-align: right;\n",
                            "    }\n",
                            "</style>\n",
                            "<table border=\"1\" class=\"dataframe\">\n",
                            "  <thead>\n",
                            "    <tr style=\"text-align: right;\">\n",
                            "      <th></th>\n",
                            "      <th>Rank</th>\n",
                            "      <th>Song</th>\n",
                            "      <th>Artist(s)</th>\n",
                            "      <th>Streams (billions)</th>\n",
                            "      <th>Release date</th>\n",
                            "      <th>Ref.</th>\n",
                            "    </tr>\n",
                            "  </thead>\n",
                            "  <tbody>\n",
                            "    <tr>\n",
                            "      <th>0</th>\n",
                            "      <td>1</td>\n",
                            "      <td>\"Blinding Lights\"</td>\n",
                            "      <td>The Weeknd</td>\n",
                            "      <td>4.836</td>\n",
                            "      <td>29 November 2019</td>\n",
                            "      <td>[2]</td>\n",
                            "    </tr>\n",
                            "    <tr>\n",
                            "      <th>1</th>\n",
                            "      <td>2</td>\n",
                            "      <td>\"Shape of You\"</td>\n",
                            "      <td>Ed Sheeran</td>\n",
                            "      <td>4.357</td>\n",
                            "      <td>6 January 2017</td>\n",
                            "      <td>[3]</td>\n",
                            "    </tr>\n",
                            "    <tr>\n",
                            "      <th>2</th>\n",
                            "      <td>3</td>\n",
                            "      <td>\"Someone You Loved\"</td>\n",
                            "      <td>Lewis Capaldi</td>\n",
                            "      <td>3.901</td>\n",
                            "      <td>8 November 2018</td>\n",
                            "      <td>[4]</td>\n",
                            "    </tr>\n",
                            "    <tr>\n",
                            "      <th>3</th>\n",
                            "      <td>4</td>\n",
                            "      <td>\"Starboy\"</td>\n",
                            "      <td>The Weeknd and Daft Punk</td>\n",
                            "      <td>3.889</td>\n",
                            "      <td>21 September 2016</td>\n",
                            "      <td>[5]</td>\n",
                            "    </tr>\n",
                            "    <tr>\n",
                            "      <th>4</th>\n",
                            "      <td>5</td>\n",
                            "      <td>\"As It Was\"</td>\n",
                            "      <td>Harry Styles</td>\n",
                            "      <td>3.873</td>\n",
                            "      <td>1 April 2022</td>\n",
                            "      <td>[6]</td>\n",
                            "    </tr>\n",
                            "    <tr>\n",
                            "      <th>...</th>\n",
                            "      <td>...</td>\n",
                            "      <td>...</td>\n",
                            "      <td>...</td>\n",
                            "      <td>...</td>\n",
                            "      <td>...</td>\n",
                            "      <td>...</td>\n",
                            "    </tr>\n",
                            "    <tr>\n",
                            "      <th>96</th>\n",
                            "      <td>97</td>\n",
                            "      <td>\"Stay with Me\"</td>\n",
                            "      <td>Sam Smith</td>\n",
                            "      <td>2.292</td>\n",
                            "      <td>14 April 2014</td>\n",
                            "      <td>[98]</td>\n",
                            "    </tr>\n",
                            "    <tr>\n",
                            "      <th>97</th>\n",
                            "      <td>98</td>\n",
                            "      <td>\"Someone Like You\"</td>\n",
                            "      <td>Adele</td>\n",
                            "      <td>2.290</td>\n",
                            "      <td>24 January 2011</td>\n",
                            "      <td>[99]</td>\n",
                            "    </tr>\n",
                            "    <tr>\n",
                            "      <th>98</th>\n",
                            "      <td>99</td>\n",
                            "      <td>\"Havana\"</td>\n",
                            "      <td>Camila Cabello and Young Thug</td>\n",
                            "      <td>2.281</td>\n",
                            "      <td>3 August 2017</td>\n",
                            "      <td>[100]</td>\n",
                            "    </tr>\n",
                            "    <tr>\n",
                            "      <th>99</th>\n",
                            "      <td>100</td>\n",
                            "      <td>\"Memories\"</td>\n",
                            "      <td>Maroon 5</td>\n",
                            "      <td>2.260</td>\n",
                            "      <td>20 September 2019</td>\n",
                            "      <td>[101]</td>\n",
                            "    </tr>\n",
                            "    <tr>\n",
                            "      <th>100</th>\n",
                            "      <td>As of 15 May 2025</td>\n",
                            "      <td>As of 15 May 2025</td>\n",
                            "      <td>As of 15 May 2025</td>\n",
                            "      <td>As of 15 May 2025</td>\n",
                            "      <td>As of 15 May 2025</td>\n",
                            "      <td>As of 15 May 2025</td>\n",
                            "    </tr>\n",
                            "  </tbody>\n",
                            "</table>\n",
                            "<p>101 rows × 6 columns</p>\n",
                            "</div>"
                        ],
                        "text/plain": [
                            "                  Rank                 Song                      Artist(s)  \\\n",
                            "0                    1    \"Blinding Lights\"                     The Weeknd   \n",
                            "1                    2       \"Shape of You\"                     Ed Sheeran   \n",
                            "2                    3  \"Someone You Loved\"                  Lewis Capaldi   \n",
                            "3                    4            \"Starboy\"       The Weeknd and Daft Punk   \n",
                            "4                    5          \"As It Was\"                   Harry Styles   \n",
                            "..                 ...                  ...                            ...   \n",
                            "96                  97       \"Stay with Me\"                      Sam Smith   \n",
                            "97                  98   \"Someone Like You\"                          Adele   \n",
                            "98                  99             \"Havana\"  Camila Cabello and Young Thug   \n",
                            "99                 100           \"Memories\"                       Maroon 5   \n",
                            "100  As of 15 May 2025    As of 15 May 2025              As of 15 May 2025   \n",
                            "\n",
                            "    Streams (billions)       Release date               Ref.  \n",
                            "0                4.836   29 November 2019                [2]  \n",
                            "1                4.357     6 January 2017                [3]  \n",
                            "2                3.901    8 November 2018                [4]  \n",
                            "3                3.889  21 September 2016                [5]  \n",
                            "4                3.873       1 April 2022                [6]  \n",
                            "..                 ...                ...                ...  \n",
                            "96               2.292      14 April 2014               [98]  \n",
                            "97               2.290    24 January 2011               [99]  \n",
                            "98               2.281      3 August 2017              [100]  \n",
                            "99               2.260  20 September 2019              [101]  \n",
                            "100  As of 15 May 2025  As of 15 May 2025  As of 15 May 2025  \n",
                            "\n",
                            "[101 rows x 6 columns]"
                        ]
                    },
                    "execution_count": 4,
                    "metadata": {},
                    "output_type": "execute_result"
                }
            ],
            "source": [
                "df = tables[0]\n",
                "df"
            ]
        },
        {
            "cell_type": "code",
            "execution_count": 5,
            "metadata": {},
            "outputs": [
                {
                    "data": {
                        "text/html": [
                            "<div>\n",
                            "<style scoped>\n",
                            "    .dataframe tbody tr th:only-of-type {\n",
                            "        vertical-align: middle;\n",
                            "    }\n",
                            "\n",
                            "    .dataframe tbody tr th {\n",
                            "        vertical-align: top;\n",
                            "    }\n",
                            "\n",
                            "    .dataframe thead th {\n",
                            "        text-align: right;\n",
                            "    }\n",
                            "</style>\n",
                            "<table border=\"1\" class=\"dataframe\">\n",
                            "  <thead>\n",
                            "    <tr style=\"text-align: right;\">\n",
                            "      <th></th>\n",
                            "      <th>Rank</th>\n",
                            "      <th>Song</th>\n",
                            "      <th>Artist(s)</th>\n",
                            "      <th>Streams (billions)</th>\n",
                            "      <th>Release date</th>\n",
                            "      <th>Ref.</th>\n",
                            "    </tr>\n",
                            "  </thead>\n",
                            "  <tbody>\n",
                            "    <tr>\n",
                            "      <th>0</th>\n",
                            "      <td>1</td>\n",
                            "      <td>\"linding Lights\"</td>\n",
                            "      <td>The Weeknd</td>\n",
                            "      <td>4.836</td>\n",
                            "      <td>29 November 2019</td>\n",
                            "      <td>[2]</td>\n",
                            "    </tr>\n",
                            "    <tr>\n",
                            "      <th>1</th>\n",
                            "      <td>2</td>\n",
                            "      <td>\"Shape of You\"</td>\n",
                            "      <td>Ed Sheeran</td>\n",
                            "      <td>4.357</td>\n",
                            "      <td>6 January 2017</td>\n",
                            "      <td>[3]</td>\n",
                            "    </tr>\n",
                            "    <tr>\n",
                            "      <th>2</th>\n",
                            "      <td>3</td>\n",
                            "      <td>\"Someone You Loved\"</td>\n",
                            "      <td>Lewis Capaldi</td>\n",
                            "      <td>3.901</td>\n",
                            "      <td>8 November 2018</td>\n",
                            "      <td>[4]</td>\n",
                            "    </tr>\n",
                            "    <tr>\n",
                            "      <th>3</th>\n",
                            "      <td>4</td>\n",
                            "      <td>\"Starboy\"</td>\n",
                            "      <td>The Weeknd and Daft Punk</td>\n",
                            "      <td>3.889</td>\n",
                            "      <td>21 September 2016</td>\n",
                            "      <td>[5]</td>\n",
                            "    </tr>\n",
                            "    <tr>\n",
                            "      <th>4</th>\n",
                            "      <td>5</td>\n",
                            "      <td>\"As It Was\"</td>\n",
                            "      <td>Harry Styles</td>\n",
                            "      <td>3.873</td>\n",
                            "      <td>1 April 2022</td>\n",
                            "      <td>[6]</td>\n",
                            "    </tr>\n",
                            "    <tr>\n",
                            "      <th>...</th>\n",
                            "      <td>...</td>\n",
                            "      <td>...</td>\n",
                            "      <td>...</td>\n",
                            "      <td>...</td>\n",
                            "      <td>...</td>\n",
                            "      <td>...</td>\n",
                            "    </tr>\n",
                            "    <tr>\n",
                            "      <th>96</th>\n",
                            "      <td>97</td>\n",
                            "      <td>\"Stay with Me\"</td>\n",
                            "      <td>Sam Smith</td>\n",
                            "      <td>2.292</td>\n",
                            "      <td>14 April 2014</td>\n",
                            "      <td>[98]</td>\n",
                            "    </tr>\n",
                            "    <tr>\n",
                            "      <th>97</th>\n",
                            "      <td>98</td>\n",
                            "      <td>\"Someone Like You\"</td>\n",
                            "      <td>Adele</td>\n",
                            "      <td>2.290</td>\n",
                            "      <td>24 January 2011</td>\n",
                            "      <td>[99]</td>\n",
                            "    </tr>\n",
                            "    <tr>\n",
                            "      <th>98</th>\n",
                            "      <td>99</td>\n",
                            "      <td>\"Havana\"</td>\n",
                            "      <td>Camila Cabello and Young Thug</td>\n",
                            "      <td>2.281</td>\n",
                            "      <td>3 August 2017</td>\n",
                            "      <td>[100]</td>\n",
                            "    </tr>\n",
                            "    <tr>\n",
                            "      <th>99</th>\n",
                            "      <td>100</td>\n",
                            "      <td>\"Memories\"</td>\n",
                            "      <td>Maroon 5</td>\n",
                            "      <td>2.260</td>\n",
                            "      <td>20 September 2019</td>\n",
                            "      <td>[101]</td>\n",
                            "    </tr>\n",
                            "    <tr>\n",
                            "      <th>100</th>\n",
                            "      <td>As of 15 May 2025</td>\n",
                            "      <td>As of 15 May 2025</td>\n",
                            "      <td>As of 15 May 2025</td>\n",
                            "      <td>As of 15 May 2025</td>\n",
                            "      <td>As of 15 May 2025</td>\n",
                            "      <td>As of 15 May 2025</td>\n",
                            "    </tr>\n",
                            "  </tbody>\n",
                            "</table>\n",
                            "<p>101 rows × 6 columns</p>\n",
                            "</div>"
                        ],
                        "text/plain": [
                            "                  Rank                 Song                      Artist(s)  \\\n",
                            "0                    1     \"linding Lights\"                     The Weeknd   \n",
                            "1                    2       \"Shape of You\"                     Ed Sheeran   \n",
                            "2                    3  \"Someone You Loved\"                  Lewis Capaldi   \n",
                            "3                    4            \"Starboy\"       The Weeknd and Daft Punk   \n",
                            "4                    5          \"As It Was\"                   Harry Styles   \n",
                            "..                 ...                  ...                            ...   \n",
                            "96                  97       \"Stay with Me\"                      Sam Smith   \n",
                            "97                  98   \"Someone Like You\"                          Adele   \n",
                            "98                  99             \"Havana\"  Camila Cabello and Young Thug   \n",
                            "99                 100           \"Memories\"                       Maroon 5   \n",
                            "100  As of 15 May 2025    As of 15 May 2025              As of 15 May 2025   \n",
                            "\n",
                            "    Streams (billions)       Release date               Ref.  \n",
                            "0                4.836   29 November 2019                [2]  \n",
                            "1                4.357     6 January 2017                [3]  \n",
                            "2                3.901    8 November 2018                [4]  \n",
                            "3                3.889  21 September 2016                [5]  \n",
                            "4                3.873       1 April 2022                [6]  \n",
                            "..                 ...                ...                ...  \n",
                            "96               2.292      14 April 2014               [98]  \n",
                            "97               2.290    24 January 2011               [99]  \n",
                            "98               2.281      3 August 2017              [100]  \n",
                            "99               2.260  20 September 2019              [101]  \n",
                            "100  As of 15 May 2025  As of 15 May 2025  As of 15 May 2025  \n",
                            "\n",
                            "[101 rows x 6 columns]"
                        ]
                    },
                    "execution_count": 5,
                    "metadata": {},
                    "output_type": "execute_result"
                }
            ],
            "source": [
                "#PASO 4\n",
                "\n",
                "df.dropna(inplace=True)\n",
                "for col in df.columns:\n",
                "    df[col] = df[col].astype(str).str.replace('$','').str.replace('B', '')\n",
                "df"
            ]
        },
        {
            "cell_type": "markdown",
            "metadata": {},
            "source": [
                "PASO 5"
            ]
        },
        {
            "cell_type": "code",
            "execution_count": 6,
            "metadata": {},
            "outputs": [
                {
                    "name": "stdout",
                    "output_type": "stream",
                    "text": [
                        "Se ha creado la tabla most_streamed_songs\n"
                    ]
                },
                {
                    "data": {
                        "text/plain": [
                            "<function Connection.close()>"
                        ]
                    },
                    "execution_count": 6,
                    "metadata": {},
                    "output_type": "execute_result"
                }
            ],
            "source": [
                "conexion=sqlite3.connect('top_songs.db') \n",
                "try: \n",
                "    conexion.execute(\"\"\"CREATE TABLE IF NOT EXISTS most_streamed_songs(\n",
                "                    rank INTEGER PRIMARY KEY AUTOINCREMENT, \n",
                "                    song VARCHAR(255) NOT NULL, \n",
                "                    artist VARCHAR(255) NOT NULL,\n",
                "                    streams_billions INT NOT NULL,\n",
                "                    release_date DATETIME NOT NULL, \n",
                "                    ref INT\n",
                "                    )\"\"\")\n",
                "    print(\"Se ha creado la tabla most_streamed_songs\")\n",
                "except sqlite3.OperationalError:\n",
                "    print(\"la tabla most_streamed_songs ya existe\")\n",
                "conexion.close"
            ]
        },
        {
            "cell_type": "code",
            "execution_count": 7,
            "metadata": {},
            "outputs": [],
            "source": [
                "conexion=sqlite3.connect(\"top_songs.db\")\n",
                "conexion.execute(\"insert into most_streamed_songs(song, artist, streams_billions, release_date, ref) values (?, ?, ?, ?, ?)\", (\"Hablando en plata\", \"Melendi\", 20354845, \"2003-05-03\", 2))\n",
                "conexion.execute(\"insert into most_streamed_songs(song, artist, streams_billions, release_date, ref) values (?, ?, ?, ?, ?)\", (\"Quédate\", \"Quevedo\", 369258147, \"2022-11-11\", 3))\n",
                "conexion.execute(\"insert into most_streamed_songs(song, artist, streams_billions, release_date, ref) values (?, ?, ?, ?, ?)\", (\"Rosas\", \"La Oreja de Van Gogh\", 2365478, \"2003-09-26\", 4))\n",
                "conexion.commit()\n",
                "conexion.close()"
            ]
        },
        {
            "cell_type": "markdown",
            "metadata": {},
            "source": [
                "PASO 6"
            ]
        },
        {
            "cell_type": "code",
            "execution_count": 8,
            "metadata": {},
            "outputs": [
                {
                    "name": "stdout",
                    "output_type": "stream",
                    "text": [
                        "(1, 'Hablando en plata', 'Melendi', 20354845, '2003-05-03', 2)\n",
                        "(2, 'Quédate', 'Quevedo', 369258147, '2022-11-11', 3)\n",
                        "(3, 'Rosas', 'La Oreja de Van Gogh', 2365478, '2003-09-26', 4)\n",
                        "(4, 'Hablando en plata', 'Melendi', 20354845, '2003-05-03', 2)\n",
                        "(5, 'Quédate', 'Quevedo', 369258147, '2022-11-11', 3)\n",
                        "(6, 'Rosas', 'La Oreja de Van Gogh', 2365478, '2003-09-26', 4)\n"
                    ]
                }
            ],
            "source": [
                "conexion=sqlite3.connect(\"top_songs.db\")\n",
                "cursor=conexion.execute(\"select rank, song,artist,streams_billions,release_date,ref from most_streamed_songs\")\n",
                "for fila in cursor:\n",
                "    print(fila)\n",
                "conexion.close()"
            ]
        },
        {
            "cell_type": "code",
            "execution_count": 9,
            "metadata": {},
            "outputs": [],
            "source": [
                "conexion=sqlite3.connect(\"top_songs.db\")\n",
                "conexion.execute(\"insert into most_streamed_songs(song, artist, streams_billions, release_date, ref) values (?, ?, ?, ?, ?)\", (\"Caminando por la vida\", \"Melendi\", 18520369, \"2005-01-23\", 5))\n",
                "conexion.execute(\"insert into most_streamed_songs(song, artist, streams_billions, release_date, ref) values (?, ?, ?, ?, ?)\", (\"Vista al mar\", \"Quevedo\", 257169987, \"2023-09-09\", 6))\n",
                "conexion.execute(\"insert into most_streamed_songs(song, artist, streams_billions, release_date, ref) values (?, ?, ?, ?, ?)\", (\"La Playa\", \"La Oreja de Van Gogh\", 5365210, \"2000-08-28\", 7))\n",
                "conexion.commit()\n",
                "conexion.close()"
            ]
        },
        {
            "cell_type": "code",
            "execution_count": 10,
            "metadata": {},
            "outputs": [
                {
                    "name": "stdout",
                    "output_type": "stream",
                    "text": [
                        "(1, 'Hablando en plata', 'Melendi', 20354845, '2003-05-03', 2)\n",
                        "(2, 'Quédate', 'Quevedo', 369258147, '2022-11-11', 3)\n",
                        "(3, 'Rosas', 'La Oreja de Van Gogh', 2365478, '2003-09-26', 4)\n",
                        "(4, 'Hablando en plata', 'Melendi', 20354845, '2003-05-03', 2)\n",
                        "(5, 'Quédate', 'Quevedo', 369258147, '2022-11-11', 3)\n",
                        "(6, 'Rosas', 'La Oreja de Van Gogh', 2365478, '2003-09-26', 4)\n",
                        "(7, 'Caminando por la vida', 'Melendi', 18520369, '2005-01-23', 5)\n",
                        "(8, 'Vista al mar', 'Quevedo', 257169987, '2023-09-09', 6)\n",
                        "(9, 'La Playa', 'La Oreja de Van Gogh', 5365210, '2000-08-28', 7)\n"
                    ]
                }
            ],
            "source": [
                "conexion=sqlite3.connect(\"top_songs.db\")\n",
                "cursor=conexion.execute(\"select rank, song,artist,streams_billions,release_date,ref from most_streamed_songs\")\n",
                "for fila in cursor:\n",
                "    print(fila)\n",
                "conexion.close()"
            ]
        },
        {
            "cell_type": "code",
            "execution_count": null,
            "metadata": {},
            "outputs": [
                {
                    "name": "stdout",
                    "output_type": "stream",
                    "text": [
                        "(1, 'Hablando en plata', 'Melendi', 20354845, '2003-05-03', 2)\n",
                        "(2, 'Quédate', 'Quevedo', 369258147, '2022-11-11', 3)\n",
                        "(3, 'Rosas', 'La Oreja de Van Gogh', 2365478, '2003-09-26', 4)\n",
                        "(7, 'Caminando por la vida', 'Melendi', 18520369, '2005-01-23', 5)\n",
                        "(8, 'Vista al mar', 'Quevedo', 257169987, '2023-09-09', 6)\n",
                        "(9, 'La Playa', 'La Oreja de Van Gogh', 5365210, '2000-08-28', 7)\n"
                    ]
                }
            ],
            "source": [
                "conexion=sqlite3.connect(\"top_songs.db\")\n",
                "eliminiar_filas = [4, 5, 6]\n",
                "conexion.executemany(\"DELETE FROM most_streamed_songs WHERE rank = 4,5,6\",[(rank,) for rank in eliminiar_filas])\n",
                "conexion.commit()\n",
                "cursor = conexion.execute(\"SELECT * FROM most_streamed_songs\")\n",
                "for fila in cursor:\n",
                "    print(fila)\n",
                "\n",
                "conexion.close()"
            ]
        },
        {
            "cell_type": "code",
            "execution_count": 17,
            "metadata": {},
            "outputs": [
                {
                    "data": {
                        "image/png": "[encoded data removed]",
                        "text/plain": [
                            "<Figure size 1200x600 with 1 Axes>"
                        ]
                    },
                    "metadata": {},
                    "output_type": "display_data"
                }
            ],
            "source": [
                "conexion = sqlite3.connect(\"top_songs.db\")\n",
                "df1 = pd.read_sql_query(\"SELECT song, artist, streams_billions, release_date FROM most_streamed_songs\", conexion)\n",
                "conexion.close()\n",
                "plt.figure(figsize=(12,6))\n",
                "plt.bar(df1[\"song\"], df1[\"streams_billions\"])\n",
                "plt.title(\"Canciones más escuchadas\")\n",
                "plt.xlabel(\"Canción\")\n",
                "plt.ylabel(\"Veces escuchada\")\n",
                "plt.show()"
            ]
        },
        {
            "cell_type": "code",
            "execution_count": 26,
            "metadata": {},
            "outputs": [
                {
                    "data": {
                        "image/png": "[encoded data removed]",
                        "text/plain": [
                            "<Figure size 800x600 with 1 Axes>"
                        ]
                    },
                    "metadata": {},
                    "output_type": "display_data"
                }
            ],
            "source": [
                "df1[\"release_year\"] = pd.to_datetime(df1[\"release_date\"]).dt.year\n",
                "fechas = df1[\"release_year\"].value_counts().sort_index()\n",
                "plt.figure(figsize=(8, 6))\n",
                "plt.barh(fechas.index, fechas.values)\n",
                "plt.xlabel(\"Año de publicación\")\n",
                "plt.ylabel(\"Número de canciones\")\n",
                "plt.xticks(range(0, fechas.values.max() + 1))\n",
                "plt.show()"
            ]
        },
        {
            "cell_type": "code",
            "execution_count": 25,
            "metadata": {},
            "outputs": [
                {
                    "data": {
                        "image/png": "[encoded data removed]",
                        "text/plain": [
                            "<Figure size 640x480 with 1 Axes>"
                        ]
                    },
                    "metadata": {},
                    "output_type": "display_data"
                }
            ],
            "source": [
                "artistas = df1.groupby(\"artist\")[\"streams_billions\"].sum().sort_values(ascending=False)\n",
                "plt.pie(artistas, labels=artistas.index, autopct=\"%1.1f%%\")\n",
                "plt.title(\"Artistas más escuchados\")\n",
                "plt.tight_layout()\n",
                "plt.show()"
            ]
        }
    ],
    "metadata": {
        "kernelspec": {
            "display_name": "Python 3",
            "language": "python",
            "name": "python3"
        },
        "language_info": {
            "codemirror_mode": {
                "name": "ipython",
                "version": 3
            },
            "file_extension": ".py",
            "mimetype": "text/x-python",
            "name": "python",
            "nbconvert_exporter": "python",
            "pygments_lexer": "ipython3",
            "version": "3.11.4"
        },
        "orig_nbformat": 4
    },
    "nbformat": 4,
    "nbformat_minor": 2
}
